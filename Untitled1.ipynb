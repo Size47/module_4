{
 "cells": [
  {
   "cell_type": "markdown",
   "metadata": {},
   "source": [
    "База данных содержит список аэропортов практически всех крупных городов России. В большинстве городов есть только один аэропорт. Исключение составляет:"
   ]
  },
  {
   "cell_type": "code",
   "execution_count": null,
   "metadata": {},
   "outputs": [],
   "source": [
    "select city, \n",
    "count(airport_name) as airport_count\n",
    "from dst_project.airports\n",
    "group by city \n",
    "order by airport_count desc\n",
    "limit 2"
   ]
  },
  {
   "cell_type": "markdown",
   "metadata": {},
   "source": [
    "Вопрос 1. Таблица рейсов содержит всю информацию о прошлых, текущих и запланированных рейсах. Сколько всего статусов для рейсов определено в таблице?"
   ]
  },
  {
   "cell_type": "code",
   "execution_count": null,
   "metadata": {},
   "outputs": [],
   "source": [
    "select count(DISTINCT status)\n",
    "from dst_project.flights"
   ]
  },
  {
   "cell_type": "code",
   "execution_count": null,
   "metadata": {},
   "outputs": [],
   "source": []
  },
  {
   "cell_type": "code",
   "execution_count": null,
   "metadata": {},
   "outputs": [],
   "source": [
    "select a.model,\n",
    "count(s.seat_no) as seat_count\n",
    "from dst_project.Seats s\n",
    "join dst_project.Aircrafts a on s.aircraft_code = a.aircraft_code\n",
    "group by a.model"
   ]
  },
  {
   "cell_type": "code",
   "execution_count": null,
   "metadata": {},
   "outputs": [],
   "source": []
  },
  {
   "cell_type": "code",
   "execution_count": null,
   "metadata": {},
   "outputs": [],
   "source": [
    "select f.status,\n",
    "count(f.flight_id)\n",
    "from dst_project.flights f\n",
    "where actual_arrival between '2017/04/01' and '2017/09/01 23:59:59.999'\n",
    "group by status"
   ]
  },
  {
   "cell_type": "code",
   "execution_count": null,
   "metadata": {},
   "outputs": [],
   "source": []
  },
  {
   "cell_type": "code",
   "execution_count": null,
   "metadata": {},
   "outputs": [],
   "source": [
    "select a.model,\n",
    "count(f.aircraft_code) as aircraft_count\n",
    "from dst_project.aircrafts a\n",
    "join dst_project.flights f on f.aircraft_code = a.aircraft_code\n",
    "group by a.model"
   ]
  },
  {
   "cell_type": "code",
   "execution_count": null,
   "metadata": {},
   "outputs": [],
   "source": []
  },
  {
   "cell_type": "code",
   "execution_count": null,
   "metadata": {},
   "outputs": [],
   "source": []
  },
  {
   "cell_type": "markdown",
   "metadata": {},
   "source": [
    "У какого рейса была самая большая задержка прибытия за все время сбора данных? Введите id рейса (flight_id)."
   ]
  },
  {
   "cell_type": "code",
   "execution_count": null,
   "metadata": {},
   "outputs": [],
   "source": [
    "SELECT DISTINCT\n",
    "    f.flight_id,\n",
    "    f.scheduled_arrival - f.actual_arrival AS flight_delayed\n",
    "FROM\n",
    "    dst_project.flights f\n",
    "order by flight_delayed"
   ]
  },
  {
   "cell_type": "markdown",
   "metadata": {},
   "source": [
    "Между какими аэропортами пролегает самый длительный по времени запланированный рейс?"
   ]
  },
  {
   "cell_type": "code",
   "execution_count": null,
   "metadata": {},
   "outputs": [],
   "source": [
    "SELECT DISTINCT\n",
    "    f.departure_airport,\n",
    "    f.arrival_airport,\n",
    "    f.scheduled_arrival - f.scheduled_departure AS flight_duration\n",
    "FROM\n",
    "    dst_project.flights f\n",
    "ORDER BY 3 DESC\n",
    "LIMIT 4"
   ]
  },
  {
   "cell_type": "markdown",
   "metadata": {},
   "source": [
    "Сколько составляет средняя дальность полета среди всех самолетов в минутах? Секунды округляются в меньшую сторону (отбрасываются до минут)."
   ]
  },
  {
   "cell_type": "code",
   "execution_count": null,
   "metadata": {},
   "outputs": [],
   "source": [
    "SELECT DISTINCT\n",
    "    AVG(f.scheduled_arrival - f.scheduled_departure)\n",
    "FROM\n",
    "    dst_project.flights f"
   ]
  },
  {
   "cell_type": "markdown",
   "metadata": {},
   "source": [
    "Мест какого класса у SU9 больше всего?"
   ]
  },
  {
   "cell_type": "code",
   "execution_count": null,
   "metadata": {},
   "outputs": [],
   "source": [
    "SELECT DISTINCT f.aircraft_code, \n",
    "f.fare_conditions, count(f.fare_conditions)\n",
    "    \n",
    "FROM\n",
    "    dst_project.seats f\n",
    "\n",
    "group by f.aircraft_code, f.fare_conditions\n",
    "order by aircraft_code desc"
   ]
  },
  {
   "cell_type": "markdown",
   "metadata": {},
   "source": [
    "Какую самую минимальную стоимость составило бронирование за всю историю?"
   ]
  },
  {
   "cell_type": "code",
   "execution_count": null,
   "metadata": {},
   "outputs": [],
   "source": [
    "SELECT DISTINCT f.total_amount\n",
    "\n",
    "FROM dst_project.bookings f\n",
    "\n",
    "order by total_amount"
   ]
  },
  {
   "cell_type": "markdown",
   "metadata": {},
   "source": [
    "Какой номер места был у пассажира с id = 4313 788533?"
   ]
  },
  {
   "cell_type": "code",
   "execution_count": null,
   "metadata": {},
   "outputs": [],
   "source": [
    "SELECT t.passenger_id, s.seat_no\n",
    "\n",
    "FROM dst_project.tickets t\n",
    "\n",
    "join dst_project.boarding_passes s on t.ticket_no = s.ticket_no\n",
    "\n",
    "where passenger_id ='4313 788533'"
   ]
  },
  {
   "cell_type": "markdown",
   "metadata": {},
   "source": [
    "Анапа — курортный город на юге России. Сколько рейсов прибыло в Анапу за 2017 год?"
   ]
  },
  {
   "cell_type": "code",
   "execution_count": null,
   "metadata": {},
   "outputs": [],
   "source": [
    "SELECT count(f.flight_id)\n",
    "FROM dst_project.flights f\n",
    "WHERE f.arrival_airport = 'AAQ'\n",
    "  AND f.actual_arrival BETWEEN '2017-01-01' AND '2018-01-01'"
   ]
  },
  {
   "cell_type": "markdown",
   "metadata": {},
   "source": [
    "Сколько рейсов из Анапы вылетело зимой 2017 года?"
   ]
  },
  {
   "cell_type": "code",
   "execution_count": null,
   "metadata": {},
   "outputs": [],
   "source": [
    "SELECT count(f.flight_id)\n",
    "FROM dst_project.flights f\n",
    "WHERE f.departure_airport = 'AAQ'\n",
    "  AND f.actual_departure BETWEEN '2017-12-01' AND '2017-12-31'\n",
    "UNION ALL\n",
    "SELECT count(f.flight_id)\n",
    "FROM dst_project.flights f\n",
    "WHERE f.departure_airport = 'AAQ'\n",
    "  AND f.actual_departure BETWEEN '2017-01-01' AND '2017-03-01'"
   ]
  },
  {
   "cell_type": "markdown",
   "metadata": {},
   "source": [
    "Посчитайте количество отмененных рейсов из Анапы за все время."
   ]
  },
  {
   "cell_type": "code",
   "execution_count": null,
   "metadata": {},
   "outputs": [],
   "source": [
    "SELECT count(f.flight_id)\n",
    "FROM dst_project.flights f\n",
    "WHERE f.departure_airport = 'AAQ'\n",
    "  AND f.status = 'Cancelled'"
   ]
  },
  {
   "cell_type": "markdown",
   "metadata": {},
   "source": [
    "Сколько рейсов из Анапы не летают в Москву?"
   ]
  },
  {
   "cell_type": "code",
   "execution_count": null,
   "metadata": {},
   "outputs": [],
   "source": [
    "SELECT count(f.flight_no)\n",
    "FROM dst_project.flights f\n",
    "WHERE f.departure_airport = 'AAQ'\n",
    "and f.arrival_airport != 'SVO'"
   ]
  },
  {
   "cell_type": "markdown",
   "metadata": {},
   "source": [
    "Какая модель самолета летящего на рейсах из Анапы имеет больше всего мест?"
   ]
  },
  {
   "cell_type": "code",
   "execution_count": null,
   "metadata": {},
   "outputs": [],
   "source": [
    "SELECT distinct(f.aircraft_code),\n",
    "a.model,\n",
    "count(distinct s.seat_no)\n",
    "FROM dst_project.flights f\n",
    "join dst_project.Aircrafts a on f.aircraft_code = a.aircraft_code\n",
    "join dst_project.seats s on f.aircraft_code = s.aircraft_code\n",
    "WHERE f.departure_airport = 'AAQ'\n",
    "group by f.aircraft_code, a.model"
   ]
  },
  {
   "cell_type": "markdown",
   "metadata": {},
   "source": [
    "Напомним, что вам предстоит выяснить, от каких самых малоприбыльных рейсов из Анапы мы можем отказаться в зимнее время. \n",
    "Вы не знаете, по каким критериям ваше руководство будет отбирать рейсы, поэтому решаете собрать как можно больше информации, \n",
    "содержащейся в вашей базе, в один датасет. "
   ]
  },
  {
   "cell_type": "code",
   "execution_count": null,
   "metadata": {},
   "outputs": [],
   "source": [
    "SELECT f.flight_id, \n",
    "    f.departure_airport, \n",
    "    f.arrival_airport, \n",
    "    a.model,\n",
    "    count(distinct t.ticket_no)*100/count(distinct s.seat_no) as Процент_заполнения, \n",
    "    sum(t.amount) as цена_билетов, \n",
    "    actual_departure-actual_arrival as время_полета FROM dst_project.flights f\n",
    "    /*c.consumption_kgh*/\n",
    "\n",
    "join dst_project.Aircrafts a on f.aircraft_code = a.aircraft_code\n",
    "join dst_project.seats s on f.aircraft_code = s.aircraft_code\n",
    "join dst_project.ticket_flights t on f.flight_id = t.flight_id\n",
    "/*join test.consumption_kgh c on a.aircraft_code = c.aircraft_code*/\n",
    "\n",
    "WHERE f.departure_airport = 'AAQ'\n",
    "  AND (date_trunc('month', scheduled_departure) in ('2017-01-01','2017-02-01', '2017-12-01'))\n",
    "  AND status not in ('Cancelled')\n",
    "\n",
    " group by f.flight_id,f.aircraft_code, a.model\n",
    " \n",
    " order by цена_билетов, Процент_заполнения"
   ]
  }
 ],
 "metadata": {
  "kernelspec": {
   "display_name": "Python 3",
   "language": "python",
   "name": "python3"
  },
  "language_info": {
   "codemirror_mode": {
    "name": "ipython",
    "version": 3
   },
   "file_extension": ".py",
   "mimetype": "text/x-python",
   "name": "python",
   "nbconvert_exporter": "python",
   "pygments_lexer": "ipython3",
   "version": "3.8.3"
  }
 },
 "nbformat": 4,
 "nbformat_minor": 4
}
